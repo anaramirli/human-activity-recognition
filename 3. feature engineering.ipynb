{
 "cells": [
  {
   "cell_type": "markdown",
   "metadata": {},
   "source": [
    "# Feature Engineering"
   ]
  },
  {
   "cell_type": "code",
   "execution_count": 1,
   "metadata": {},
   "outputs": [],
   "source": [
    "from modules.FeatureBuilder import *"
   ]
  },
  {
   "cell_type": "markdown",
   "metadata": {},
   "source": [
    "### Why we don't simply fit intertial signals to the model?\n",
    "\n",
    "Although they showed relatively different trends between walking and stationary activity groups, we observed that most of the signals overlap within the same group activities. Hence, it's not clear whether they would be helpful for modelling activity detecting problem. Nevertheless, it's important to add that total acceleration signals showed considerable distinction even within the activities of same group. But, still, the total acceleration signals alone isn't enough to capture all the information about the event.\n",
    "\n",
    "### What we can do?\n",
    "\n",
    "Most of the signal show similar behaviour (periodic patterns) over a period of time. It's important to find when this change happens. Thus, transforming signals between time and frequency domain, we try to decompose the frequency of these periodic components and later find possible significant peaks in frequency spectra. We'll use these concets:\n",
    "    \n",
    "   1. **Fast Fourier Transform (FFT)** - Used for finding frequency of periodical components\n",
    "   2. **Power Spectral Density (PSD)** - Find peaks corrensponds to power distribution at that frequency\n",
    "   3. **Atocorrelation (aCORR)** - Caculates the serial correlation of a signal with its lagged signal\n",
    "   \n",
    "   \n",
    "   For  implemataion of these mehotds go to *'modules.SignalCalculations'*\n",
    "\n",
    "### What is next now?\n",
    "\n",
    "Now we have extra signals to conduct more detailed feature engineering which may convey better information. Our total features set we'll be consist of features calculated on this newly created signal and those calculated on normal inertial signals. \n",
    "\n",
    "\n",
    "### Main features\n",
    "\n",
    "main_features: those are the features that we'll be calculated on original inertial signals."
   ]
  },
  {
   "cell_type": "code",
   "execution_count": 10,
   "metadata": {},
   "outputs": [],
   "source": [
    "featreBuilder = FeatureBuilder(n_peaks=2)\n",
    "featreBuilder.init_features()"
   ]
  },
  {
   "cell_type": "code",
   "execution_count": 11,
   "metadata": {},
   "outputs": [
    {
     "data": {
      "text/plain": [
       "['mean',\n",
       " 'std',\n",
       " 'mad',\n",
       " 'max',\n",
       " 'min',\n",
       " 'iqr',\n",
       " 'entropy',\n",
       " 'correlation-1',\n",
       " 'correlation-2']"
      ]
     },
     "execution_count": 11,
     "metadata": {},
     "output_type": "execute_result"
    }
   ],
   "source": [
    "featreBuilder.get_main_features(return_values=False)"
   ]
  },
  {
   "cell_type": "markdown",
   "metadata": {},
   "source": [
    "#### Descrioption of main features\n",
    "\n",
    "* 'mean' mean vale\n",
    "* 'std': standart deviation\n",
    "* 'mad': median absolute deviation\n",
    "* 'max': larget value in array\n",
    "* 'min': smallest value in array\n",
    "* 'iqr': interquartile range\n",
    "* 'entropy': entropy of signal\n",
    "* 'correlation-1': correlation\n",
    "* 'correlation-2': correlation\n",
    "\n",
    "We know that we have 3 different signals and each signal is represented on 3-axis. So if the given signal is on the x-axis, then *'correlation-1'* and *'correlation-2'* show correlation between x-y and x-z. It the same way around for the others.\n",
    "\n",
    "\n",
    "### Domain  features\n",
    "\n",
    "domain_features: those are the features that we'll be calculated from signal transformations."
   ]
  },
  {
   "cell_type": "code",
   "execution_count": 12,
   "metadata": {},
   "outputs": [
    {
     "data": {
      "text/plain": [
       "['FFT-min',\n",
       " 'FFT-max',\n",
       " 'FFT-mean',\n",
       " 'FFT-peak-values-0',\n",
       " 'FFT-peak-values-1',\n",
       " 'FFT-peak-domains-0',\n",
       " 'FFT-peak-domains-1',\n",
       " 'PSD-min',\n",
       " 'PSD-max',\n",
       " 'PSD-mean',\n",
       " 'PSD-peak-values-0',\n",
       " 'PSD-peak-values-1',\n",
       " 'PSD-peak-domains-0',\n",
       " 'PSD-peak-domains-1',\n",
       " 'aCORR-min',\n",
       " 'aCORR-max',\n",
       " 'aCORR-mean',\n",
       " 'aCORR-peak-values-0',\n",
       " 'aCORR-peak-values-1',\n",
       " 'aCORR-peak-domains-0',\n",
       " 'aCORR-peak-domains-1']"
      ]
     },
     "execution_count": 12,
     "metadata": {},
     "output_type": "execute_result"
    }
   ],
   "source": [
    "featreBuilder.get_domain_features(return_values=False)"
   ]
  },
  {
   "cell_type": "markdown",
   "metadata": {},
   "source": [
    "#### Description of domain featues\n",
    "\n",
    "for each of FFT, PSD, and aCORR we have the same structue below:\n",
    "\n",
    "* 'min':  smallest of selected peaks\n",
    "* 'max':  largest of selected peaks\n",
    "* 'mean': mean of the peaks\n",
    "* 'peak-values':{} : e.g. for the first selected 2 peaks, it will be like {'1':0, '2':0} \n",
    "* 'peak-domains': {}: e.g for the first selected 2 peaks, it will be like {'1':0, '2':0}\n",
    "\n",
    "\n",
    "For each transformation, we'll look at the first n peaks in the signal. We're not only the interested in the amplitude of these peaks happened, but also where/when this peaks happened in the t/f-domains. Because moving where this peak occurs can also be helpful for discrimination period pattern. Thus we'll not only take first n peaks of transformations, but also consider their t/f-domains.\n",
    "\n",
    "So *'peak-values'* stores the amplitude of the first n peaks, *'peak-domains'* stores the information about at what frequency/time domain this peaks happens. In the above example n_peak=2, therefore, two peak-related features has generated.\n",
    "\n",
    "## Feature Generation\n",
    "\n",
    "Here comes the fun part, finally! In this part, will carry out feature engineering on test/train internal signals."
   ]
  }
 ],
 "metadata": {
  "kernelspec": {
   "display_name": "Python 3",
   "language": "python",
   "name": "python3"
  },
  "language_info": {
   "codemirror_mode": {
    "name": "ipython",
    "version": 3
   },
   "file_extension": ".py",
   "mimetype": "text/x-python",
   "name": "python",
   "nbconvert_exporter": "python",
   "pygments_lexer": "ipython3",
   "version": "3.7.4"
  }
 },
 "nbformat": 4,
 "nbformat_minor": 2
}
