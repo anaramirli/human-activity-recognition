{
 "cells": [
  {
   "cell_type": "markdown",
   "metadata": {},
   "source": [
    "# Model Building/Testing"
   ]
  },
  {
   "cell_type": "code",
   "execution_count": 82,
   "metadata": {},
   "outputs": [],
   "source": [
    "import numpy as np\n",
    "import pandas as pd\n",
    "from sklearn.utils import shuffle\n",
    "\n",
    "from sklearn.preprocessing import StandardScaler\n",
    "from keras.utils import to_categorical\n",
    "\n",
    "from keras.models import Sequential\n",
    "from keras.layers import Dense, Dropout, LSTM\n",
    "from keras.callbacks import EarlyStopping\n",
    "from sklearn.model_selection import KFold\n",
    "from sklearn.metrics import classification_report, confusion_matrix\n",
    "\n",
    "\n",
    "# import our modules\n",
    "from modules.utils import *"
   ]
  },
  {
   "cell_type": "markdown",
   "metadata": {},
   "source": [
    "#### Load data"
   ]
  },
  {
   "cell_type": "code",
   "execution_count": 83,
   "metadata": {},
   "outputs": [
    {
     "data": {
      "text/html": [
       "<div>\n",
       "<style scoped>\n",
       "    .dataframe tbody tr th:only-of-type {\n",
       "        vertical-align: middle;\n",
       "    }\n",
       "\n",
       "    .dataframe tbody tr th {\n",
       "        vertical-align: top;\n",
       "    }\n",
       "\n",
       "    .dataframe thead th {\n",
       "        text-align: right;\n",
       "    }\n",
       "</style>\n",
       "<table border=\"1\" class=\"dataframe\">\n",
       "  <thead>\n",
       "    <tr style=\"text-align: right;\">\n",
       "      <th></th>\n",
       "      <th>BODY_ACC_X_STD</th>\n",
       "      <th>BODY_ACC_X_MEAN</th>\n",
       "      <th>BODY_ACC_X_MAD</th>\n",
       "      <th>BODY_ACC_X_MAX</th>\n",
       "      <th>BODY_ACC_X_MIN</th>\n",
       "      <th>BODY_ACC_X_IQR</th>\n",
       "      <th>BODY_ACC_X_CORRELATION-1</th>\n",
       "      <th>BODY_ACC_X_CORRELATION-2</th>\n",
       "      <th>BODY_ACC_X_ACORR-PEAKS-MEAN</th>\n",
       "      <th>BODY_ACC_X_ACORR-PEAK-VALUE-0</th>\n",
       "      <th>...</th>\n",
       "      <th>TOTAL_ACC_Z_FFT-PEAK-VALUE-0</th>\n",
       "      <th>TOTAL_ACC_Z_FFT-PEAK-VALUE-1</th>\n",
       "      <th>TOTAL_ACC_Z_FFT-PEAK-VALUE-2</th>\n",
       "      <th>TOTAL_ACC_Z_FFT-PEAK-VALUE-3</th>\n",
       "      <th>TOTAL_ACC_Z_FFT-PEAK-VALUE-4</th>\n",
       "      <th>TOTAL_ACC_Z_FFT-PEAK-DOMAIN-0</th>\n",
       "      <th>TOTAL_ACC_Z_FFT-PEAK-DOMAIN-1</th>\n",
       "      <th>TOTAL_ACC_Z_FFT-PEAK-DOMAIN-2</th>\n",
       "      <th>TOTAL_ACC_Z_FFT-PEAK-DOMAIN-3</th>\n",
       "      <th>TOTAL_ACC_Z_FFT-PEAK-DOMAIN-4</th>\n",
       "    </tr>\n",
       "  </thead>\n",
       "  <tbody>\n",
       "    <tr>\n",
       "      <td>0</td>\n",
       "      <td>0.002941</td>\n",
       "      <td>0.002269</td>\n",
       "      <td>0.002025</td>\n",
       "      <td>0.010810</td>\n",
       "      <td>-0.004294</td>\n",
       "      <td>0.004812</td>\n",
       "      <td>0.374934</td>\n",
       "      <td>0.433372</td>\n",
       "      <td>0.001125</td>\n",
       "      <td>0.001205</td>\n",
       "      <td>...</td>\n",
       "      <td>0.000440</td>\n",
       "      <td>0.000781</td>\n",
       "      <td>0.000479</td>\n",
       "      <td>0.000556</td>\n",
       "      <td>0.000576</td>\n",
       "      <td>1.190476</td>\n",
       "      <td>3.174603</td>\n",
       "      <td>3.968254</td>\n",
       "      <td>4.761905</td>\n",
       "      <td>5.952381</td>\n",
       "    </tr>\n",
       "    <tr>\n",
       "      <td>1</td>\n",
       "      <td>0.001981</td>\n",
       "      <td>0.000174</td>\n",
       "      <td>0.000110</td>\n",
       "      <td>0.005251</td>\n",
       "      <td>-0.006706</td>\n",
       "      <td>0.001970</td>\n",
       "      <td>-0.011562</td>\n",
       "      <td>-0.071672</td>\n",
       "      <td>0.000038</td>\n",
       "      <td>0.000031</td>\n",
       "      <td>...</td>\n",
       "      <td>0.000669</td>\n",
       "      <td>0.000660</td>\n",
       "      <td>0.000661</td>\n",
       "      <td>0.000582</td>\n",
       "      <td>0.000858</td>\n",
       "      <td>0.793651</td>\n",
       "      <td>1.984127</td>\n",
       "      <td>2.777778</td>\n",
       "      <td>3.968254</td>\n",
       "      <td>5.158730</td>\n",
       "    </tr>\n",
       "    <tr>\n",
       "      <td>2</td>\n",
       "      <td>0.002908</td>\n",
       "      <td>0.000428</td>\n",
       "      <td>0.000627</td>\n",
       "      <td>0.008167</td>\n",
       "      <td>-0.010483</td>\n",
       "      <td>0.003138</td>\n",
       "      <td>-0.121905</td>\n",
       "      <td>-0.179492</td>\n",
       "      <td>0.000097</td>\n",
       "      <td>0.000255</td>\n",
       "      <td>...</td>\n",
       "      <td>0.001235</td>\n",
       "      <td>0.000832</td>\n",
       "      <td>0.000626</td>\n",
       "      <td>0.000790</td>\n",
       "      <td>0.001252</td>\n",
       "      <td>0.793651</td>\n",
       "      <td>1.587302</td>\n",
       "      <td>2.380952</td>\n",
       "      <td>4.365079</td>\n",
       "      <td>5.952381</td>\n",
       "    </tr>\n",
       "    <tr>\n",
       "      <td>3</td>\n",
       "      <td>0.002678</td>\n",
       "      <td>0.000329</td>\n",
       "      <td>0.000269</td>\n",
       "      <td>0.008167</td>\n",
       "      <td>-0.010483</td>\n",
       "      <td>0.003128</td>\n",
       "      <td>-0.301393</td>\n",
       "      <td>-0.360048</td>\n",
       "      <td>0.000181</td>\n",
       "      <td>0.000304</td>\n",
       "      <td>...</td>\n",
       "      <td>0.000903</td>\n",
       "      <td>0.000749</td>\n",
       "      <td>0.000358</td>\n",
       "      <td>0.000727</td>\n",
       "      <td>0.000890</td>\n",
       "      <td>1.190476</td>\n",
       "      <td>1.984127</td>\n",
       "      <td>3.571429</td>\n",
       "      <td>4.365079</td>\n",
       "      <td>5.952381</td>\n",
       "    </tr>\n",
       "    <tr>\n",
       "      <td>4</td>\n",
       "      <td>0.002015</td>\n",
       "      <td>-0.000195</td>\n",
       "      <td>-0.000144</td>\n",
       "      <td>0.005650</td>\n",
       "      <td>-0.006847</td>\n",
       "      <td>0.002622</td>\n",
       "      <td>-0.152752</td>\n",
       "      <td>-0.188102</td>\n",
       "      <td>0.000052</td>\n",
       "      <td>0.000060</td>\n",
       "      <td>...</td>\n",
       "      <td>0.000580</td>\n",
       "      <td>0.000890</td>\n",
       "      <td>0.000660</td>\n",
       "      <td>0.000693</td>\n",
       "      <td>0.000565</td>\n",
       "      <td>1.190476</td>\n",
       "      <td>2.777778</td>\n",
       "      <td>3.968254</td>\n",
       "      <td>4.761905</td>\n",
       "      <td>5.952381</td>\n",
       "    </tr>\n",
       "    <tr>\n",
       "      <td>5</td>\n",
       "      <td>0.002276</td>\n",
       "      <td>-0.000078</td>\n",
       "      <td>-0.000182</td>\n",
       "      <td>0.005650</td>\n",
       "      <td>-0.006847</td>\n",
       "      <td>0.002883</td>\n",
       "      <td>-0.206476</td>\n",
       "      <td>-0.149615</td>\n",
       "      <td>0.000045</td>\n",
       "      <td>-0.000060</td>\n",
       "      <td>...</td>\n",
       "      <td>0.000923</td>\n",
       "      <td>0.001155</td>\n",
       "      <td>0.001041</td>\n",
       "      <td>0.000690</td>\n",
       "      <td>0.000885</td>\n",
       "      <td>1.587302</td>\n",
       "      <td>2.777778</td>\n",
       "      <td>3.571429</td>\n",
       "      <td>5.555556</td>\n",
       "      <td>7.142857</td>\n",
       "    </tr>\n",
       "    <tr>\n",
       "      <td>6</td>\n",
       "      <td>0.002409</td>\n",
       "      <td>0.000387</td>\n",
       "      <td>0.000461</td>\n",
       "      <td>0.006637</td>\n",
       "      <td>-0.005558</td>\n",
       "      <td>0.003317</td>\n",
       "      <td>-0.093299</td>\n",
       "      <td>-0.134364</td>\n",
       "      <td>0.000103</td>\n",
       "      <td>0.000155</td>\n",
       "      <td>...</td>\n",
       "      <td>0.000811</td>\n",
       "      <td>0.001078</td>\n",
       "      <td>0.001735</td>\n",
       "      <td>0.000898</td>\n",
       "      <td>0.000974</td>\n",
       "      <td>1.190476</td>\n",
       "      <td>2.777778</td>\n",
       "      <td>3.571429</td>\n",
       "      <td>6.746032</td>\n",
       "      <td>9.126984</td>\n",
       "    </tr>\n",
       "    <tr>\n",
       "      <td>7</td>\n",
       "      <td>0.002527</td>\n",
       "      <td>-0.000030</td>\n",
       "      <td>-0.000261</td>\n",
       "      <td>0.006637</td>\n",
       "      <td>-0.006030</td>\n",
       "      <td>0.003928</td>\n",
       "      <td>-0.158534</td>\n",
       "      <td>-0.016404</td>\n",
       "      <td>0.000093</td>\n",
       "      <td>0.000120</td>\n",
       "      <td>...</td>\n",
       "      <td>0.000893</td>\n",
       "      <td>0.000659</td>\n",
       "      <td>0.001169</td>\n",
       "      <td>0.000670</td>\n",
       "      <td>0.000786</td>\n",
       "      <td>1.587302</td>\n",
       "      <td>2.380952</td>\n",
       "      <td>3.571429</td>\n",
       "      <td>5.158730</td>\n",
       "      <td>6.349206</td>\n",
       "    </tr>\n",
       "    <tr>\n",
       "      <td>8</td>\n",
       "      <td>0.002278</td>\n",
       "      <td>-0.000058</td>\n",
       "      <td>-0.000261</td>\n",
       "      <td>0.006897</td>\n",
       "      <td>-0.006030</td>\n",
       "      <td>0.002976</td>\n",
       "      <td>-0.161664</td>\n",
       "      <td>-0.032960</td>\n",
       "      <td>0.000111</td>\n",
       "      <td>0.000138</td>\n",
       "      <td>...</td>\n",
       "      <td>0.001123</td>\n",
       "      <td>0.000448</td>\n",
       "      <td>0.001132</td>\n",
       "      <td>0.000402</td>\n",
       "      <td>0.000287</td>\n",
       "      <td>1.190476</td>\n",
       "      <td>2.777778</td>\n",
       "      <td>5.158730</td>\n",
       "      <td>5.952381</td>\n",
       "      <td>6.746032</td>\n",
       "    </tr>\n",
       "    <tr>\n",
       "      <td>9</td>\n",
       "      <td>0.003095</td>\n",
       "      <td>0.000620</td>\n",
       "      <td>0.000495</td>\n",
       "      <td>0.007276</td>\n",
       "      <td>-0.009268</td>\n",
       "      <td>0.003705</td>\n",
       "      <td>-0.173019</td>\n",
       "      <td>-0.444580</td>\n",
       "      <td>0.000278</td>\n",
       "      <td>0.000231</td>\n",
       "      <td>...</td>\n",
       "      <td>0.000880</td>\n",
       "      <td>0.001386</td>\n",
       "      <td>0.001759</td>\n",
       "      <td>0.000503</td>\n",
       "      <td>0.000710</td>\n",
       "      <td>1.984127</td>\n",
       "      <td>3.174603</td>\n",
       "      <td>4.761905</td>\n",
       "      <td>6.349206</td>\n",
       "      <td>7.142857</td>\n",
       "    </tr>\n",
       "  </tbody>\n",
       "</table>\n",
       "<p>10 rows × 369 columns</p>\n",
       "</div>"
      ],
      "text/plain": [
       "   BODY_ACC_X_STD  BODY_ACC_X_MEAN  BODY_ACC_X_MAD  BODY_ACC_X_MAX  \\\n",
       "0        0.002941         0.002269        0.002025        0.010810   \n",
       "1        0.001981         0.000174        0.000110        0.005251   \n",
       "2        0.002908         0.000428        0.000627        0.008167   \n",
       "3        0.002678         0.000329        0.000269        0.008167   \n",
       "4        0.002015        -0.000195       -0.000144        0.005650   \n",
       "5        0.002276        -0.000078       -0.000182        0.005650   \n",
       "6        0.002409         0.000387        0.000461        0.006637   \n",
       "7        0.002527        -0.000030       -0.000261        0.006637   \n",
       "8        0.002278        -0.000058       -0.000261        0.006897   \n",
       "9        0.003095         0.000620        0.000495        0.007276   \n",
       "\n",
       "   BODY_ACC_X_MIN  BODY_ACC_X_IQR  BODY_ACC_X_CORRELATION-1  \\\n",
       "0       -0.004294        0.004812                  0.374934   \n",
       "1       -0.006706        0.001970                 -0.011562   \n",
       "2       -0.010483        0.003138                 -0.121905   \n",
       "3       -0.010483        0.003128                 -0.301393   \n",
       "4       -0.006847        0.002622                 -0.152752   \n",
       "5       -0.006847        0.002883                 -0.206476   \n",
       "6       -0.005558        0.003317                 -0.093299   \n",
       "7       -0.006030        0.003928                 -0.158534   \n",
       "8       -0.006030        0.002976                 -0.161664   \n",
       "9       -0.009268        0.003705                 -0.173019   \n",
       "\n",
       "   BODY_ACC_X_CORRELATION-2  BODY_ACC_X_ACORR-PEAKS-MEAN  \\\n",
       "0                  0.433372                     0.001125   \n",
       "1                 -0.071672                     0.000038   \n",
       "2                 -0.179492                     0.000097   \n",
       "3                 -0.360048                     0.000181   \n",
       "4                 -0.188102                     0.000052   \n",
       "5                 -0.149615                     0.000045   \n",
       "6                 -0.134364                     0.000103   \n",
       "7                 -0.016404                     0.000093   \n",
       "8                 -0.032960                     0.000111   \n",
       "9                 -0.444580                     0.000278   \n",
       "\n",
       "   BODY_ACC_X_ACORR-PEAK-VALUE-0  ...  TOTAL_ACC_Z_FFT-PEAK-VALUE-0  \\\n",
       "0                       0.001205  ...                      0.000440   \n",
       "1                       0.000031  ...                      0.000669   \n",
       "2                       0.000255  ...                      0.001235   \n",
       "3                       0.000304  ...                      0.000903   \n",
       "4                       0.000060  ...                      0.000580   \n",
       "5                      -0.000060  ...                      0.000923   \n",
       "6                       0.000155  ...                      0.000811   \n",
       "7                       0.000120  ...                      0.000893   \n",
       "8                       0.000138  ...                      0.001123   \n",
       "9                       0.000231  ...                      0.000880   \n",
       "\n",
       "   TOTAL_ACC_Z_FFT-PEAK-VALUE-1  TOTAL_ACC_Z_FFT-PEAK-VALUE-2  \\\n",
       "0                      0.000781                      0.000479   \n",
       "1                      0.000660                      0.000661   \n",
       "2                      0.000832                      0.000626   \n",
       "3                      0.000749                      0.000358   \n",
       "4                      0.000890                      0.000660   \n",
       "5                      0.001155                      0.001041   \n",
       "6                      0.001078                      0.001735   \n",
       "7                      0.000659                      0.001169   \n",
       "8                      0.000448                      0.001132   \n",
       "9                      0.001386                      0.001759   \n",
       "\n",
       "   TOTAL_ACC_Z_FFT-PEAK-VALUE-3  TOTAL_ACC_Z_FFT-PEAK-VALUE-4  \\\n",
       "0                      0.000556                      0.000576   \n",
       "1                      0.000582                      0.000858   \n",
       "2                      0.000790                      0.001252   \n",
       "3                      0.000727                      0.000890   \n",
       "4                      0.000693                      0.000565   \n",
       "5                      0.000690                      0.000885   \n",
       "6                      0.000898                      0.000974   \n",
       "7                      0.000670                      0.000786   \n",
       "8                      0.000402                      0.000287   \n",
       "9                      0.000503                      0.000710   \n",
       "\n",
       "   TOTAL_ACC_Z_FFT-PEAK-DOMAIN-0  TOTAL_ACC_Z_FFT-PEAK-DOMAIN-1  \\\n",
       "0                       1.190476                       3.174603   \n",
       "1                       0.793651                       1.984127   \n",
       "2                       0.793651                       1.587302   \n",
       "3                       1.190476                       1.984127   \n",
       "4                       1.190476                       2.777778   \n",
       "5                       1.587302                       2.777778   \n",
       "6                       1.190476                       2.777778   \n",
       "7                       1.587302                       2.380952   \n",
       "8                       1.190476                       2.777778   \n",
       "9                       1.984127                       3.174603   \n",
       "\n",
       "   TOTAL_ACC_Z_FFT-PEAK-DOMAIN-2  TOTAL_ACC_Z_FFT-PEAK-DOMAIN-3  \\\n",
       "0                       3.968254                       4.761905   \n",
       "1                       2.777778                       3.968254   \n",
       "2                       2.380952                       4.365079   \n",
       "3                       3.571429                       4.365079   \n",
       "4                       3.968254                       4.761905   \n",
       "5                       3.571429                       5.555556   \n",
       "6                       3.571429                       6.746032   \n",
       "7                       3.571429                       5.158730   \n",
       "8                       5.158730                       5.952381   \n",
       "9                       4.761905                       6.349206   \n",
       "\n",
       "   TOTAL_ACC_Z_FFT-PEAK-DOMAIN-4  \n",
       "0                       5.952381  \n",
       "1                       5.158730  \n",
       "2                       5.952381  \n",
       "3                       5.952381  \n",
       "4                       5.952381  \n",
       "5                       7.142857  \n",
       "6                       9.126984  \n",
       "7                       6.349206  \n",
       "8                       6.746032  \n",
       "9                       7.142857  \n",
       "\n",
       "[10 rows x 369 columns]"
      ]
     },
     "execution_count": 83,
     "metadata": {},
     "output_type": "execute_result"
    }
   ],
   "source": [
    "train = pd.read_csv('dataset/train.csv')\n",
    "test  = pd.read_csv('dataset/test.csv')\n",
    "\n",
    "# get featrues and labels\n",
    "X_train, y_train = train.iloc[:, :-1], train['ACTIVITY']\n",
    "X_test,  y_test = test.iloc[:, :-1], test['ACTIVITY']\n",
    "\n",
    "X_train.head(10)"
   ]
  },
  {
   "cell_type": "markdown",
   "metadata": {},
   "source": [
    "#### Preprocess data"
   ]
  },
  {
   "cell_type": "code",
   "execution_count": 84,
   "metadata": {},
   "outputs": [],
   "source": [
    "# target to categorical\n",
    "y_train, y_test = y_train-1, y_test-1\n",
    "\n",
    "y_train = to_categorical(y_train)\n",
    "\n",
    "# shuffle data\n",
    "X_train, y_train = shuffle(X_train, y_train)\n",
    "X_test, y_test = shuffle(X_test, y_test)\n",
    "\n",
    "\n",
    "# scale values \n",
    "scaler = StandardScaler().fit(X_train)\n",
    "X_train=scaler.transform(X_train)\n",
    "X_test =scaler.transform(X_test)"
   ]
  },
  {
   "cell_type": "markdown",
   "metadata": {},
   "source": [
    "# Training with NN\n",
    "\n",
    "\n",
    "#### Create model"
   ]
  },
  {
   "cell_type": "code",
   "execution_count": 89,
   "metadata": {},
   "outputs": [],
   "source": [
    "def NN_model(input_dim, hidden_layer_size, activation, dense, optimizer, n_outputs=6):\n",
    "    \n",
    "    '''\n",
    "    model to be used in grid_search with cross fold\n",
    "    input:\n",
    "        input_dim: inpit dimension\n",
    "        hidden_layer: hidden layers\n",
    "        n_outputs: number of outputs\n",
    "        activation: activation function for nodes\n",
    "        dense: number of nodes\n",
    "        optimizer: optimizer function\n",
    "    '''\n",
    "    \n",
    "    model = Sequential()\n",
    "    \n",
    "    # add input layer\n",
    "    model.add(Dense(dense, input_shape=(input_dim,), activation = activation))\n",
    "    model.add(Dropout(0.2))\n",
    "    \n",
    "    # add hidden layers\n",
    "    for _ in range(hidden_layer_size):\n",
    "        model.add(Dense(dense, activation = activation))\n",
    "        model.add(Dropout(0.2))\n",
    "   \n",
    "    # add output layer\n",
    "    model.add(Dense(n_outputs, activation='softmax'))\n",
    "    \n",
    "    model.compile(loss='categorical_crossentropy', optimizer=optimizer, metrics=['accuracy'])\n",
    "    return model"
   ]
  },
  {
   "cell_type": "markdown",
   "metadata": {},
   "source": [
    "### Search space\n",
    "\n",
    "Before below search grid, several tests carried out, as the best performing activation and optimizers were relu and adam together, we kept them fixed during param search."
   ]
  },
  {
   "cell_type": "code",
   "execution_count": 86,
   "metadata": {},
   "outputs": [],
   "source": [
    "# create grid parameters\n",
    "param_grid = {      \n",
    "            'hidden_layer_size': [1, 2, 4, 8],\n",
    "            'activation': ['relu'],\n",
    "            'node_size': [30, 50, 70, 100],\n",
    "            'optimizer': ['adam']\n",
    "}\n",
    "\n",
    "# CREATE ITERATIVE PARAM LIST\n",
    "\n",
    "# parameter list for storing all possible combinations\n",
    "param_list = []\n",
    "# create all possible parameters combinations for optimizations\n",
    "for n_hidden in param_grid['hidden_layer_size']:\n",
    "        for n_act in param_grid['activation']:\n",
    "            for n_node in param_grid['node_size']:\n",
    "                for n_opt in param_grid['optimizer']:\n",
    "                    param_dict = dict(zip(list(param_grid.keys()), [n_hidden, n_act, n_node, n_opt]))\n",
    "                    param_list.append(param_dict)"
   ]
  },
  {
   "cell_type": "code",
   "execution_count": 87,
   "metadata": {},
   "outputs": [
    {
     "data": {
      "text/plain": [
       "[{'hidden_layer_size': 1,\n",
       "  'activation': 'relu',\n",
       "  'node_size': 30,\n",
       "  'optimizer': 'adam'},\n",
       " {'hidden_layer_size': 1,\n",
       "  'activation': 'relu',\n",
       "  'node_size': 50,\n",
       "  'optimizer': 'adam'},\n",
       " {'hidden_layer_size': 1,\n",
       "  'activation': 'relu',\n",
       "  'node_size': 70,\n",
       "  'optimizer': 'adam'}]"
      ]
     },
     "execution_count": 87,
     "metadata": {},
     "output_type": "execute_result"
    }
   ],
   "source": [
    "param_list[0:3]"
   ]
  },
  {
   "cell_type": "markdown",
   "metadata": {},
   "source": [
    "## Train \n",
    "\n",
    "Evaluate with 10-fold cross-validaiton"
   ]
  },
  {
   "cell_type": "code",
   "execution_count": 91,
   "metadata": {},
   "outputs": [],
   "source": [
    "# select the model with best (last) validation accuracy on train data\n",
    "\n",
    "# init vars\n",
    "input_dim = X_train.shape[1]\n",
    "\n",
    "models_history = {}\n",
    "tmp_val_acc = -1\n",
    "best_model = None\n",
    "best_model_params = None\n",
    "best_model_history = {}\n",
    "\n",
    "\n",
    "k_fold = KFold(10, True, 1)\n",
    "\n",
    "# ----------------- GET PARAMETERS -----------------\n",
    "# iterate through parameters   \n",
    "for param_i, params in enumerate(param_list):\n",
    "    \n",
    "#     print('\\nparam_i: '+str(param_i))\n",
    "#     print(_)\n",
    "    \n",
    "    # get paramas\n",
    "    hidden_layer_size = param_list[param_i]['hidden_layer_size']\n",
    "    activation = param_list[param_i]['activation']\n",
    "    node_size = param_list[param_i]['node_size']\n",
    "    optimizer = param_list[param_i]['optimizer']\n",
    "    \n",
    "    # temporary list for storing results \n",
    "    acc_his = []\n",
    "    loss_his = []\n",
    "    val_acc_his = []\n",
    "    val_loss_his = []\n",
    "   \n",
    "    \n",
    "    for train_ix, test_ix in k_fold.split(X_train):\n",
    "        # select samples\n",
    "        trainX, trainy = X_train[train_ix], y_train[train_ix]\n",
    "        testX, testy = X_train[test_ix], y_train[test_ix]\n",
    "        # evaluate model\n",
    "\n",
    "        # add early stopping\n",
    "        # es = EarlyStopping(monitor='val_accuracy', verbose=1, patience=10)\n",
    "\n",
    "        # train model\n",
    "        model = NN_model(input_dim, hidden_layer_size, activation, node_size, optimizer)\n",
    "        history = model.fit(trainX, trainy, validation_data=(testX, testy), epochs=30, verbose=0)\n",
    "        \n",
    "        # add each fold result to list\n",
    "        acc_his.append(history.history['accuracy'])\n",
    "        loss_his.append(history.history['loss'])\n",
    "        val_acc_his.append(history.history['val_accuracy'])\n",
    "        val_loss_his.append(history.history['val_loss'])\n",
    "       \n",
    "\n",
    "    # get the mean value of k-fold results\n",
    "    models_history[param_i] = {'accuracy': np.mean(acc_his, axis=0),\n",
    "                               'loss': np.mean(loss_his, axis=0),\n",
    "                               'val_accuracy': np.mean(val_acc_his, axis=0),\n",
    "                               'val_loss': np.mean(val_loss_his, axis=0)}\n",
    "    # evaluate results\n",
    "    if tmp_val_acc<models_history[param_i]['val_accuracy'][-1]:\n",
    "        tmp_val_acc=models_history[param_i]['val_accuracy'][-1]\n",
    "        best_model_history =  models_history[param_i]\n",
    "        best_model_params = params \n",
    "        best_model = model"
   ]
  },
  {
   "cell_type": "code",
   "execution_count": 10,
   "metadata": {},
   "outputs": [
    {
     "data": {
      "text/plain": [
       "{'hidden_layer_size': 1,\n",
       " 'activation': 'relu',\n",
       " 'node_size': 70,\n",
       " 'optimizer': 'adam'}"
      ]
     },
     "execution_count": 10,
     "metadata": {},
     "output_type": "execute_result"
    }
   ],
   "source": [
    "best_model_params"
   ]
  },
  {
   "cell_type": "markdown",
   "metadata": {},
   "source": [
    "#### Plot best model result"
   ]
  },
  {
   "cell_type": "code",
   "execution_count": 11,
   "metadata": {},
   "outputs": [
    {
     "data": {
      "image/png": "[encoded data removed]",
      "text/plain": [
       "<Figure size 432x288 with 1 Axes>"
      ]
     },
     "metadata": {
      "needs_background": "light"
     },
     "output_type": "display_data"
    }
   ],
   "source": [
    "# plot accuracy history\n",
    "plot_model_history([best_model_history['accuracy'], best_model_history['val_accuracy']],\n",
    "                   legend=['train', 'validation'],\n",
    "                   title='accuracy histroy over 10-fold cv',\n",
    "                   ylabel='accuracy', xlabel='Epoch', figure_size=(6,4))"
   ]
  },
  {
   "cell_type": "code",
   "execution_count": 12,
   "metadata": {},
   "outputs": [
    {
     "data": {
      "image/png": "[encoded data removed]",
      "text/plain": [
       "<Figure size 432x288 with 1 Axes>"
      ]
     },
     "metadata": {
      "needs_background": "light"
     },
     "output_type": "display_data"
    }
   ],
   "source": [
    "# plot loss history\n",
    "plot_model_history([best_model_history['loss'], best_model_history['val_loss']],\n",
    "                   legend=['train', 'validation'],\n",
    "                   title='loss histroy over 10-fold cv',\n",
    "                   ylabel='loss', xlabel='Epoch', figure_size=(6,4))"
   ]
  },
  {
   "cell_type": "markdown",
   "metadata": {},
   "source": [
    "#### Saves"
   ]
  },
  {
   "cell_type": "code",
   "execution_count": 13,
   "metadata": {},
   "outputs": [],
   "source": [
    "# Save all the history values for each grid_search combination to evalaute with bokeh.\n",
    "save_models_history(param_list, models_history, 'bokeh dashboard/data/sfse.csv')"
   ]
  },
  {
   "cell_type": "markdown",
   "metadata": {},
   "source": [
    "## Test Results"
   ]
  },
  {
   "cell_type": "code",
   "execution_count": 14,
   "metadata": {},
   "outputs": [],
   "source": [
    "classes = ['Walking', 'Upstairs', 'Downstairs', 'Sitting', 'Standing', 'Laying'] \n",
    "y_pred = best_model.predict_classes(X_test, verbose=0)"
   ]
  },
  {
   "cell_type": "code",
   "execution_count": 15,
   "metadata": {},
   "outputs": [
    {
     "name": "stdout",
     "output_type": "stream",
     "text": [
      "              precision    recall  f1-score   support\n",
      "\n",
      "     Walking       0.91      0.90      0.91       503\n",
      "    Upstairs       0.79      0.86      0.82       435\n",
      "  Downstairs       0.89      0.82      0.85       451\n",
      "     Sitting       0.75      0.87      0.81       422\n",
      "    Standing       0.90      0.80      0.84       598\n",
      "      Laying       1.00      1.00      1.00       538\n",
      "\n",
      "    accuracy                           0.88      2947\n",
      "   macro avg       0.87      0.88      0.87      2947\n",
      "weighted avg       0.88      0.88      0.88      2947\n",
      "\n"
     ]
    }
   ],
   "source": [
    "print(classification_report(y_pred, y_test, target_names=classes))"
   ]
  },
  {
   "cell_type": "code",
   "execution_count": 16,
   "metadata": {},
   "outputs": [
    {
     "data": {
      "image/png": "[encoded data removed]",
      "text/plain": [
       "<Figure size 648x648 with 2 Axes>"
      ]
     },
     "metadata": {
      "needs_background": "light"
     },
     "output_type": "display_data"
    }
   ],
   "source": [
    "plot_confusion_matrix(confusion_matrix(y_pred, y_test), classes, 'Predicted label',' True label', normalize=True)"
   ]
  },
  {
   "cell_type": "markdown",
   "metadata": {},
   "source": [
    "# Training with LSTM\n",
    "\n",
    "\n",
    "#### Create model"
   ]
  },
  {
   "cell_type": "code",
   "execution_count": 18,
   "metadata": {},
   "outputs": [],
   "source": [
    "def LSTM_model(n_timesteps, n_features, activation, dense, optimizer, n_outputs=6):\n",
    "    \n",
    "    '''\n",
    "    model to be used in grid_search with cross fold\n",
    "    input:\n",
    "        n_timesteps: number of timesteps\n",
    "        n_features: number of features\n",
    "        n_outputs: number of outputs\n",
    "        activation: activation function for nodes\n",
    "        dense: number of nodes\n",
    "        optimizer: optimizer function\n",
    "    '''\n",
    "    \n",
    "    model = Sequential()\n",
    "\n",
    "    # add LSTM layer\n",
    "    model.add(LSTM(dense, input_shape=(n_timesteps,n_features)))\n",
    "    model.add(Dropout(0.2))\n",
    "    \n",
    "    # add a single dense Layer\n",
    "    model.add(Dense(dense, activation=activation))\n",
    "    model.add(Dropout(0.2))\n",
    "   \n",
    "    # add output layer\n",
    "    model.add(Dense(n_outputs, activation='softmax'))\n",
    "\n",
    "    model.compile(loss='categorical_crossentropy', optimizer=optimizer, metrics=['accuracy'])\n",
    "    return model"
   ]
  },
  {
   "cell_type": "markdown",
   "metadata": {},
   "source": [
    "#### Resape data"
   ]
  },
  {
   "cell_type": "code",
   "execution_count": 19,
   "metadata": {},
   "outputs": [],
   "source": [
    "X_train = np.reshape(X_train, (X_train.shape[0], 1, X_train.shape[1]))\n",
    "X_test = np.reshape(X_test, (X_test.shape[0], 1, X_test.shape[1]))"
   ]
  },
  {
   "cell_type": "markdown",
   "metadata": {},
   "source": [
    "## Train \n",
    "\n",
    "Evaluate with 10-fold cross-validaiton"
   ]
  },
  {
   "cell_type": "code",
   "execution_count": 35,
   "metadata": {},
   "outputs": [],
   "source": [
    "# init params\n",
    "n_timesteps = X_train.shape[1]\n",
    "n_features = X_train.shape[2]\n",
    "\n",
    "\n",
    "k_fold = KFold(10, True, 1)\n",
    "\n",
    "# temporary list for storing results \n",
    "acc_his = []\n",
    "loss_his = []\n",
    "val_acc_his = []\n",
    "val_loss_his = []\n",
    "\n",
    "\n",
    "for train_ix, test_ix in k_fold.split(X_train):\n",
    "    \n",
    "    # select samples\n",
    "    trainX, trainy = X_train[train_ix], y_train[train_ix]\n",
    "    testX, testy = X_train[test_ix], y_train[test_ix]\n",
    "    # evaluate model\n",
    "\n",
    "    # add early stopping\n",
    "    # es = EarlyStopping(monitor='val_accuracy', verbose=0, patience=10)\n",
    "\n",
    "    # train model\n",
    "    model = LSTM_model(n_timesteps, n_features, 'relu', 30, 'adam')\n",
    "    history = model.fit(trainX, trainy, validation_data=(testX, testy), epochs=25, verbose=0) \n",
    "    \n",
    "    # add each fold result to list\n",
    "    acc_his.append(history.history['accuracy'])\n",
    "    loss_his.append(history.history['loss'])\n",
    "    val_acc_his.append(history.history['val_accuracy'])\n",
    "    val_loss_his.append(history.history['val_loss'])\n",
    "    \n",
    "# caculate mean history for cross-validation\n",
    "mean_acc_his  = np.mean(acc_his, axis=0)\n",
    "mean_loss_his = np.mean(loss_his, axis=0)\n",
    "mean_val_acc_hiss  = np.mean(val_acc_his, axis=0)\n",
    "mean_val_loss_hiss = np.mean(val_loss_his, axis=0)"
   ]
  },
  {
   "cell_type": "markdown",
   "metadata": {},
   "source": [
    "#### Plot results"
   ]
  },
  {
   "cell_type": "code",
   "execution_count": 37,
   "metadata": {},
   "outputs": [
    {
     "data": {
      "image/png": "[encoded data removed]",
      "text/plain": [
       "<Figure size 432x288 with 1 Axes>"
      ]
     },
     "metadata": {
      "needs_background": "light"
     },
     "output_type": "display_data"
    }
   ],
   "source": [
    "# plot accuracy history\n",
    "plot_model_history([mean_acc_his, mean_val_acc_hiss],\n",
    "                   legend=['train', 'validation'],\n",
    "                   title='accuracy histroy over 10-fold cv',\n",
    "                   ylabel='accuracy', xlabel='Epoch', figure_size=(6,4))"
   ]
  },
  {
   "cell_type": "code",
   "execution_count": 39,
   "metadata": {},
   "outputs": [
    {
     "data": {
      "image/png": "[encoded data removed]",
      "text/plain": [
       "<Figure size 432x288 with 1 Axes>"
      ]
     },
     "metadata": {
      "needs_background": "light"
     },
     "output_type": "display_data"
    }
   ],
   "source": [
    "# plot loss history\n",
    "plot_model_history([mean_loss_his, mean_val_loss_hiss],\n",
    "                   legend=['train', 'validation'],\n",
    "                   title='accuracy histroy over 10-fold cv',\n",
    "                   ylabel='accuracy', xlabel='Epoch', figure_size=(6,4))"
   ]
  },
  {
   "cell_type": "markdown",
   "metadata": {},
   "source": [
    "## Test Results"
   ]
  },
  {
   "cell_type": "code",
   "execution_count": 41,
   "metadata": {},
   "outputs": [],
   "source": [
    "classes = ['Walking', 'Upstairs', 'Downstairs', 'Sitting', 'Standing', 'Laying'] \n",
    "y_pred = model.predict_classes(X_test, verbose=0)"
   ]
  },
  {
   "cell_type": "code",
   "execution_count": 42,
   "metadata": {},
   "outputs": [
    {
     "name": "stdout",
     "output_type": "stream",
     "text": [
      "              precision    recall  f1-score   support\n",
      "\n",
      "     Walking       0.96      0.87      0.91       549\n",
      "    Upstairs       0.79      0.84      0.81       443\n",
      "  Downstairs       0.84      0.89      0.87       395\n",
      "     Sitting       0.78      0.82      0.80       467\n",
      "    Standing       0.84      0.81      0.83       556\n",
      "      Laying       1.00      1.00      1.00       537\n",
      "\n",
      "    accuracy                           0.87      2947\n",
      "   macro avg       0.87      0.87      0.87      2947\n",
      "weighted avg       0.88      0.87      0.87      2947\n",
      "\n"
     ]
    }
   ],
   "source": [
    "print(classification_report(y_pred, y_test, target_names=classes))"
   ]
  },
  {
   "cell_type": "code",
   "execution_count": 43,
   "metadata": {},
   "outputs": [
    {
     "data": {
      "image/png": "[encoded data removed]",
      "text/plain": [
       "<Figure size 648x648 with 2 Axes>"
      ]
     },
     "metadata": {
      "needs_background": "light"
     },
     "output_type": "display_data"
    }
   ],
   "source": [
    "plot_confusion_matrix(confusion_matrix(y_pred, y_test), classes, 'Predicted label',' True label', normalize=True)"
   ]
  },
  {
   "cell_type": "code",
   "execution_count": 47,
   "metadata": {},
   "outputs": [
    {
     "data": {
      "text/plain": [
       "array([[475,  68,   6,   0,   0,   0],\n",
       "       [ 10, 372,  61,   0,   0,   0],\n",
       "       [ 11,  31, 353,   0,   0,   0],\n",
       "       [  0,   0,   0, 384,  83,   0],\n",
       "       [  0,   0,   0, 107, 449,   0],\n",
       "       [  0,   0,   0,   0,   0, 537]], dtype=int64)"
      ]
     },
     "execution_count": 47,
     "metadata": {},
     "output_type": "execute_result"
    }
   ],
   "source": [
    "confusion_matrix(y_pred, y_test)"
   ]
  }
 ],
 "metadata": {
  "kernelspec": {
   "display_name": "Python 3",
   "language": "python",
   "name": "python3"
  },
  "language_info": {
   "codemirror_mode": {
    "name": "ipython",
    "version": 3
   },
   "file_extension": ".py",
   "mimetype": "text/x-python",
   "name": "python",
   "nbconvert_exporter": "python",
   "pygments_lexer": "ipython3",
   "version": "3.7.4"
  }
 },
 "nbformat": 4,
 "nbformat_minor": 2
}
