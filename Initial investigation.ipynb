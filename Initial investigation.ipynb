{
 "cells": [
  {
   "cell_type": "markdown",
   "metadata": {},
   "source": [
    "# Intial Data Investigation\n",
    "\n",
    "Here we'll investigate both datasets for gaining more insight into the data in order to come up with right ideas for modelling phase."
   ]
  },
  {
   "cell_type": "code",
   "execution_count": 1,
   "metadata": {},
   "outputs": [],
   "source": [
    "import pandas as pd\n",
    "\n",
    "# import our modules here\n",
    "from modules.DataHandler import *\n",
    "from modules.utils import *\n",
    "\n",
    "# HandleData: used for downloading dataset (txt) files and handle the data we get\n",
    "datahandler = DataHandler()"
   ]
  },
  {
   "cell_type": "markdown",
   "metadata": {},
   "source": [
    "## Balance of target clases\n",
    "\n",
    "Unbalanced data will sure affect the predictive model and lead to a biased result. Thus, we'll check if class distribution in each dataset is balanced. If not, then we'll carry out necessary steps, such as oversampling or undersampling in pre-processing steps."
   ]
  },
  {
   "cell_type": "code",
   "execution_count": 54,
   "metadata": {},
   "outputs": [
    {
     "name": "stdout",
     "output_type": "stream",
     "text": [
      "\n",
      "TRAIN-SET\n",
      "class\tnumber\t%-wise\n",
      "6\t1407\t19.14\n",
      "5\t1374\t18.69\n",
      "4\t1286\t17.49\n",
      "1\t1226\t16.68\n",
      "2\t1073\t14.59\n",
      "3\t986\t13.41\n",
      "\n",
      "TEST-SET\n",
      "class\tnumber\t%-wise\n",
      "6\t537\t18.22\n",
      "5\t532\t18.05\n",
      "1\t496\t16.83\n",
      "4\t491\t16.66\n",
      "2\t471\t15.98\n",
      "3\t420\t14.25\n"
     ]
    }
   ],
   "source": [
    "prefix = ['train', 'test']\n",
    "\n",
    "for i in prefix:\n",
    "    print('\\n{}-SET\\nclass\\tnumber\\t%-wise'.format(i.upper()))\n",
    "    \n",
    "    data=datahandler.load_txt('UCI HAR Dataset/{}/y_{}.txt'.format(i, i))\n",
    "    class_count = pd.value_counts(data.iloc[:,0])\n",
    "    \n",
    "    for c in range(len(class_count)):\n",
    "        print('%d\\t%d\\t%.2f' %(class_count.index[c], \n",
    "                               class_count.values[c], \n",
    "                               100*class_count.values[c]/sum(class_count)))"
   ]
  },
  {
   "cell_type": "markdown",
   "metadata": {},
   "source": [
    "*It looks like distribution of our case is fairly normal. So it's safe to continue.*"
   ]
  }
 ],
 "metadata": {
  "kernelspec": {
   "display_name": "Python 3",
   "language": "python",
   "name": "python3"
  },
  "language_info": {
   "codemirror_mode": {
    "name": "ipython",
    "version": 3
   },
   "file_extension": ".py",
   "mimetype": "text/x-python",
   "name": "python",
   "nbconvert_exporter": "python",
   "pygments_lexer": "ipython3",
   "version": "3.7.4"
  }
 },
 "nbformat": 4,
 "nbformat_minor": 2
}
